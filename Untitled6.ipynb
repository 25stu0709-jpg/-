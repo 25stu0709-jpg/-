{
  "nbformat": 4,
  "nbformat_minor": 0,
  "metadata": {
    "colab": {
      "provenance": [],
      "authorship_tag": "ABX9TyOuYdHdqkLWXPkkISQvYeGi",
      "include_colab_link": true
    },
    "kernelspec": {
      "name": "python3",
      "display_name": "Python 3"
    },
    "language_info": {
      "name": "python"
    }
  },
  "cells": [
    {
      "cell_type": "markdown",
      "metadata": {
        "id": "view-in-github",
        "colab_type": "text"
      },
      "source": [
        "<a href=\"https://colab.research.google.com/github/25stu0709-jpg/-/blob/main/Untitled6.ipynb\" target=\"_parent\"><img src=\"https://colab.research.google.com/assets/colab-badge.svg\" alt=\"Open In Colab\"/></a>"
      ]
    },
    {
      "cell_type": "code",
      "execution_count": 7,
      "metadata": {
        "colab": {
          "base_uri": "https://localhost:8080/"
        },
        "id": "EiaqxCPRs0i2",
        "outputId": "0b2f5eb1-d6f1-4d25-d731-4401d52701b4"
      },
      "outputs": [
        {
          "output_type": "stream",
          "name": "stdout",
          "text": [
            "출력할 단을 입력하세요 (예: 2): 325\n",
            "\n",
            "325단 출력:\n",
            "325 x 1 = 325\n",
            "325 x 2 = 650\n",
            "325 x 3 = 975\n",
            "325 x 4 = 1300\n",
            "325 x 5 = 1625\n",
            "325 x 6 = 1950\n",
            "325 x 7 = 2275\n",
            "325 x 8 = 2600\n",
            "325 x 9 = 2925\n"
          ]
        }
      ],
      "source": [
        "# 구구단 프로그램\n",
        "\n",
        "# 사용자로부터 숫자 입력 받기\n",
        "number = int(input(\"출력할 단을 입력하세요 (예: 2): \"))\n",
        "\n",
        "# 1부터 9까지 반복해서 구구단 출력\n",
        "print(f\"\\n{number}단 출력:\")\n",
        "for i in range(1, 10):\n",
        "    print(f\"{number} x {i} = {number * i}\")\n",
        "\n"
      ]
    }
  ]
}